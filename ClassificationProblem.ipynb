{
 "cells": [
  {
   "cell_type": "markdown",
   "metadata": {},
   "source": [
    "# PROJECT PART ONE - CLASSIFICATION PROBLEM"
   ]
  },
  {
   "cell_type": "markdown",
   "metadata": {},
   "source": [
    "## Imports"
   ]
  },
  {
   "cell_type": "code",
   "execution_count": 1,
   "metadata": {},
   "outputs": [],
   "source": [
    "#IMPORTS\n",
    "import pandas as pd\n",
    "import numpy as np"
   ]
  },
  {
   "cell_type": "markdown",
   "metadata": {},
   "source": [
    "## Creating Dataframes"
   ]
  },
  {
   "cell_type": "code",
   "execution_count": 5,
   "metadata": {},
   "outputs": [
    {
     "name": "stdout",
     "output_type": "stream",
     "text": [
      "TrainData1.txt :  (150, 3312)\n",
      "TrainData2.txt :  (100, 1)\n",
      "TrainData3.txt :  (6300, 13)\n",
      "TestData1.txt :  (53, 3312)\n",
      "TestData2.txt :  (74, 1)\n",
      "TestData3.txt :  (2693, 1)\n",
      "TrainLabel1.txt :  (150, 1)\n",
      "TrainLabel2.txt :  (100, 1)\n",
      "TrainLabel3.txt :  (6300, 1)\n"
     ]
    }
   ],
   "source": [
    "#Converting All Text Files To Dataframes (Training Data, Test Data, And Training Label Data)\n",
    "def transformToDataframes(TextData):\n",
    "    dataset = pd.read_csv(TextData, sep='\\t', header=None)\n",
    "    #Mark Missing Values With Null Placeholder\n",
    "    dataset.replace(1e+99, np.nan, inplace=True)\n",
    "    print(TextData[15:], \": \", dataset.shape)\n",
    "    return dataset\n",
    "\n",
    "#Training Data\n",
    "TrainingData1 = transformToDataframes('./Project Data/TrainData1.txt')\n",
    "TrainingData2 = transformToDataframes('./Project Data/TrainData2.txt') #Not Loading Properly\n",
    "TrainingData3 = transformToDataframes('./Project Data/TrainData3.txt')\n",
    "\n",
    "#Test Data\n",
    "TestData1 = transformToDataframes('./Project Data/TestData1.txt')\n",
    "TestData2 = transformToDataframes('./Project Data/TestData2.txt') #Not Loading Properly\n",
    "TestData3 = transformToDataframes('./Project Data/TestData3.txt') #Not Loading Properly\n",
    "\n",
    "#Training Labels\n",
    "TrainingLabel1 = transformToDataframes('./Project Data/TrainLabel1.txt')\n",
    "TrainingLabel2 = transformToDataframes('./Project Data/TrainLabel2.txt')\n",
    "TrainingLabel3 = transformToDataframes('./Project Data/TrainLabel3.txt')"
   ]
  },
  {
   "cell_type": "markdown",
   "metadata": {},
   "source": [
    "## Pre-Processing"
   ]
  },
  {
   "cell_type": "markdown",
   "metadata": {},
   "source": [
    "### Missing Value Estimation / Imputation"
   ]
  },
  {
   "cell_type": "code",
   "execution_count": null,
   "metadata": {},
   "outputs": [],
   "source": [
    "#Visualizing The Distribution Of Data\n"
   ]
  },
  {
   "cell_type": "code",
   "execution_count": null,
   "metadata": {},
   "outputs": [],
   "source": [
    "#Cleaning Up And Imputing Missing Values - TRAINING DATA ONE\n",
    "\n",
    "#IMPLEMENT CODE FOR DEALING WITH MISSING VALUES"
   ]
  },
  {
   "cell_type": "markdown",
   "metadata": {},
   "source": [
    "### Normalization "
   ]
  },
  {
   "cell_type": "markdown",
   "metadata": {},
   "source": [
    "### Feature Selection"
   ]
  }
 ],
 "metadata": {
  "kernelspec": {
   "display_name": "Python 3",
   "language": "python",
   "name": "python3"
  },
  "language_info": {
   "codemirror_mode": {
    "name": "ipython",
    "version": 3
   },
   "file_extension": ".py",
   "mimetype": "text/x-python",
   "name": "python",
   "nbconvert_exporter": "python",
   "pygments_lexer": "ipython3",
   "version": "3.9.6"
  }
 },
 "nbformat": 4,
 "nbformat_minor": 2
}
