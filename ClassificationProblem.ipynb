{
 "cells": [
  {
   "cell_type": "markdown",
   "metadata": {},
   "source": [
    "# PROJECT PART ONE - CLASSIFICATION PROBLEM"
   ]
  },
  {
   "cell_type": "markdown",
   "metadata": {},
   "source": [
    "## Imports"
   ]
  },
  {
   "cell_type": "code",
   "execution_count": 1,
   "metadata": {},
   "outputs": [],
   "source": [
    "#IMPORTS\n",
    "import pandas as pd\n",
    "import numpy as np\n",
    "import matplotlib.pyplot as plt\n",
    "from sklearn.impute import KNNImputer"
   ]
  },
  {
   "cell_type": "markdown",
   "metadata": {},
   "source": [
    "## Creating Dataframes"
   ]
  },
  {
   "cell_type": "code",
   "execution_count": 8,
   "metadata": {},
   "outputs": [
    {
     "name": "stdout",
     "output_type": "stream",
     "text": [
      "TrainData1.txt :  (150, 3312)\n",
      "TrainData4.txt :  (2547, 1)\n",
      "TrainData5.txt :  (1119, 1)\n",
      "TestData1.txt :  (53, 3312)\n",
      "TestData4.txt :  (1092, 1)\n",
      "TestData5.txt :  (480, 1)\n",
      "TrainLabel1.txt :  (150, 1)\n",
      "TrainLabel4.txt :  (2547, 1)\n",
      "TrainLabel5.txt :  (1119, 1)\n"
     ]
    }
   ],
   "source": [
    "#Converting All Text Files To Dataframes (Training Data, Test Data, And Training Label Data)\n",
    "def transformToDataframes(TextData):\n",
    "    dataset = pd.read_csv(TextData, sep='\\t', header=None, engine='python')\n",
    "    #Mark Missing Values With Null Placeholder\n",
    "    dataset.replace(1e+99, np.nan, inplace=True)\n",
    "    print(TextData[15:], \": \", dataset.shape)\n",
    "    return dataset\n",
    "\n",
    "#Training Data\n",
    "TrainingData1 = transformToDataframes('./Project Data/TrainData1.txt')\n",
    "TrainingData2 = transformToDataframes('./Project Data/TrainData4.txt') \n",
    "TrainingData3 = transformToDataframes('./Project Data/TrainData5.txt')\n",
    "\n",
    "#Test Data\n",
    "TestData1 = transformToDataframes('./Project Data/TestData1.txt')\n",
    "TestData2 = transformToDataframes('./Project Data/TestData4.txt') \n",
    "TestData3 = transformToDataframes('./Project Data/TestData5.txt') \n",
    "\n",
    "#Training Labels\n",
    "TrainingLabel1 = transformToDataframes('./Project Data/TrainLabel1.txt')\n",
    "TrainingLabel2 = transformToDataframes('./Project Data/TrainLabel4.txt')\n",
    "TrainingLabel3 = transformToDataframes('./Project Data/TrainLabel5.txt')"
   ]
  },
  {
   "cell_type": "markdown",
   "metadata": {},
   "source": [
    "## Pre-Processing"
   ]
  },
  {
   "cell_type": "markdown",
   "metadata": {},
   "source": [
    "### Missing Value Estimation / Imputation"
   ]
  },
  {
   "cell_type": "code",
   "execution_count": 10,
   "metadata": {},
   "outputs": [
    {
     "name": "stdout",
     "output_type": "stream",
     "text": [
      "Missing values before imputation: 9936\n"
     ]
    },
    {
     "data": {
      "image/png": "[encoded data removed]",
      "text/plain": [
       "<Figure size 432x288 with 1 Axes>"
      ]
     },
     "metadata": {
      "needs_background": "light"
     },
     "output_type": "display_data"
    },
    {
     "name": "stdout",
     "output_type": "stream",
     "text": [
      "Missing values after imputation: 0\n"
     ]
    },
    {
     "data": {
      "image/png": "[encoded data removed]",
      "text/plain": [
       "<Figure size 432x288 with 1 Axes>"
      ]
     },
     "metadata": {
      "needs_background": "light"
     },
     "output_type": "display_data"
    }
   ],
   "source": [
    "#Visualizing the distribution of Training Data One\n",
    "print(\"Missing values before imputation:\", TrainingData1.isnull().sum().sum())\n",
    "plt.hist(TrainingData1, bins=10)\n",
    "plt.show()\n",
    "\n",
    "#Applying KNN Euclidean Imputation Of Missing Values To Dataset\n",
    "knnImpute = KNNImputer(n_neighbors=5, weights='distance', metric='nan_euclidean', add_indicator=False)\n",
    "TrainingData1 = pd.DataFrame(knnImpute.fit_transform(TrainingData1), columns = TrainingData1.columns)\n",
    "\n",
    "#Visualizing Distribution After Imputation\n",
    "print(\"Missing values after imputation:\", TrainingData1.isnull().sum().sum())\n",
    "plt.hist(TrainingData1, bins=10)\n",
    "plt.show()"
   ]
  },
  {
   "cell_type": "markdown",
   "metadata": {},
   "source": [
    "## CLASSIFICATION TRAINING, TESTING, AND EVALUATION"
   ]
  },
  {
   "cell_type": "code",
   "execution_count": 11,
   "metadata": {},
   "outputs": [],
   "source": [
    "#Applying The Class Training Labels To Datasets\n",
    "TrainingData1['class'] = TrainingLabel1\n",
    "TrainingData2['class'] = TrainingLabel2 #Not properly loaded yet\n",
    "TrainingData3['class'] = TrainingLabel3"
   ]
  },
  {
   "cell_type": "markdown",
   "metadata": {},
   "source": [
    "#### K NEAREST NEIGHBOR CLASSIFIER"
   ]
  },
  {
   "cell_type": "code",
   "execution_count": 12,
   "metadata": {},
   "outputs": [
    {
     "name": "stdout",
     "output_type": "stream",
     "text": [
      "K= 1 , Accuracy:  0.9 , Precision:  0.9 , Recall:  0.9\n",
      "\n",
      "K= 2 , Accuracy:  0.8666666666666667 , Precision:  0.8666666666666667 , Recall:  0.8666666666666667\n",
      "\n",
      "K= 3 , Accuracy:  0.9 , Precision:  0.9 , Recall:  0.9\n",
      "\n",
      "K= 4 , Accuracy:  0.9 , Precision:  0.9 , Recall:  0.9\n",
      "\n",
      "K= 5 , Accuracy:  0.9 , Precision:  0.9 , Recall:  0.9\n",
      "\n",
      "K= 6 , Accuracy:  0.8666666666666667 , Precision:  0.8666666666666667 , Recall:  0.8666666666666667\n",
      "\n",
      "K= 7 , Accuracy:  0.9 , Precision:  0.9 , Recall:  0.9\n",
      "\n",
      "K= 8 , Accuracy:  0.8666666666666667 , Precision:  0.8666666666666667 , Recall:  0.8666666666666667\n",
      "\n",
      "K= 9 , Accuracy:  0.9 , Precision:  0.9 , Recall:  0.9\n",
      "\n",
      "K= 10 , Accuracy:  0.8666666666666667 , Precision:  0.8666666666666667 , Recall:  0.8666666666666667\n",
      "\n",
      "K= 11 , Accuracy:  0.8666666666666667 , Precision:  0.8666666666666667 , Recall:  0.8666666666666667\n",
      "\n",
      "K= 12 , Accuracy:  0.8 , Precision:  0.8 , Recall:  0.8\n",
      "\n",
      "K= 13 , Accuracy:  0.8 , Precision:  0.8 , Recall:  0.8\n",
      "\n",
      "K= 14 , Accuracy:  0.8 , Precision:  0.8 , Recall:  0.8\n",
      "\n",
      "K= 15 , Accuracy:  0.8 , Precision:  0.8 , Recall:  0.8\n",
      "\n",
      "K= 16 , Accuracy:  0.8 , Precision:  0.8 , Recall:  0.8\n",
      "\n",
      "K= 17 , Accuracy:  0.8 , Precision:  0.8 , Recall:  0.8\n",
      "\n",
      "K= 18 , Accuracy:  0.8 , Precision:  0.8 , Recall:  0.8\n",
      "\n",
      "K= 19 , Accuracy:  0.8 , Precision:  0.8 , Recall:  0.8\n",
      "\n",
      "K= 20 , Accuracy:  0.8 , Precision:  0.8 , Recall:  0.8\n",
      "\n"
     ]
    }
   ],
   "source": [
    "#Classifier Imports\n",
    "from sklearn.neighbors import KNeighborsClassifier\n",
    "from sklearn.model_selection import train_test_split\n",
    "\n",
    "from sklearn.metrics import accuracy_score\n",
    "from sklearn.metrics import precision_score\n",
    "from sklearn.metrics import recall_score\n",
    "\n",
    "y = TrainingData1['class']\n",
    "X = TrainingData1.drop('class', axis=1)\n",
    "\n",
    "X_train, X_test, y_train, y_test = train_test_split(X, y, test_size=0.2)\n",
    "K = [] \n",
    "training = [] \n",
    "test = [] \n",
    "scores = {} \n",
    "  \n",
    "for k in range(1, 21): \n",
    "    knn_clf = KNeighborsClassifier(n_neighbors = k) \n",
    "    knn_clf.fit(X_train, y_train) \n",
    "\n",
    "    y_pred = knn_clf.predict(X_test)\n",
    "    accuracy = accuracy_score(y_test, y_pred)\n",
    "    precision = precision_score(y_test, y_pred, average='micro')\n",
    "    recall = recall_score(y_test, y_pred, average='micro')\n",
    "    print('K=', k, ', Accuracy: ', accuracy, ', Precision: ', precision, ', Recall: ', recall)\n",
    "    print()"
   ]
  },
  {
   "cell_type": "markdown",
   "metadata": {},
   "source": [
    "#### SUPPORT VECTOR MACHINE"
   ]
  },
  {
   "cell_type": "code",
   "execution_count": null,
   "metadata": {},
   "outputs": [],
   "source": []
  },
  {
   "cell_type": "markdown",
   "metadata": {},
   "source": [
    "#### LOGISTIC REGRESSION CLASSIFIER"
   ]
  },
  {
   "cell_type": "code",
   "execution_count": null,
   "metadata": {},
   "outputs": [],
   "source": []
  },
  {
   "cell_type": "markdown",
   "metadata": {},
   "source": [
    "#### RANDOM FOREST CLASSIFIER"
   ]
  },
  {
   "cell_type": "code",
   "execution_count": null,
   "metadata": {},
   "outputs": [],
   "source": []
  }
 ],
 "metadata": {
  "kernelspec": {
   "display_name": "Python 3",
   "language": "python",
   "name": "python3"
  },
  "language_info": {
   "codemirror_mode": {
    "name": "ipython",
    "version": 3
   },
   "file_extension": ".py",
   "mimetype": "text/x-python",
   "name": "python",
   "nbconvert_exporter": "python",
   "pygments_lexer": "ipython3",
   "version": "3.9.6"
  }
 },
 "nbformat": 4,
 "nbformat_minor": 2
}
